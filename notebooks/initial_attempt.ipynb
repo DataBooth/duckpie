{
 "cells": [
  {
   "cell_type": "code",
   "execution_count": 1,
   "metadata": {},
   "outputs": [],
   "source": [
    "import duckdb\n",
    "from pathlib import Path\n",
    "# from fastcore.net import urlsave\n",
    "import urllib\n",
    "from loguru import logger"
   ]
  },
  {
   "cell_type": "code",
   "execution_count": 2,
   "metadata": {},
   "outputs": [],
   "source": [
    "url = \"https://github.com/lerocha/chinook-database/raw/master/ChinookDatabase/DataSources/Chinook_Sqlite.sqlite\"\n",
    "# path = Path(\"chinook.sqlite\")\n",
    "# if not path.exists():\n",
    "#     urlsave(url, path)"
   ]
  },
  {
   "cell_type": "code",
   "execution_count": 3,
   "metadata": {},
   "outputs": [],
   "source": [
    "# path = Path(\"Chinook_Sqlite.sqlite\")\n",
    "# con = duckdb.connect()\n",
    "# con.execute(f\"ATTACH '{path}' AS sqlite_db (TYPE sqlite);\")\n",
    "# con.execute(f\"USE sqlite_db\")\n",
    "\n",
    "# # # COMMENT: Could be DuckDB, CSV, Parquet, JSON etc data sources (not just SQLite)"
   ]
  },
  {
   "cell_type": "code",
   "execution_count": 4,
   "metadata": {},
   "outputs": [],
   "source": [
    "# con.sql(\"SELECT * FROM Artist\")"
   ]
  },
  {
   "cell_type": "code",
   "execution_count": 5,
   "metadata": {},
   "outputs": [],
   "source": [
    "class TableInfo:\n",
    "    def __init__(self, name, columns):\n",
    "        self.name = name\n",
    "        self.columns = columns\n",
    "\n",
    "    def __repr__(self):\n",
    "        return f\"Table: {self.name}\\nColumns: {', '.join(self.columns)}\"\n",
    "\n",
    "class Tables:\n",
    "    def __init__(self, con, tables, source_type):\n",
    "        self.con = con\n",
    "        self.source_type = source_type\n",
    "        self.table_names = tables\n",
    "        for table in tables:\n",
    "            if self.source_type == 'sqlite':\n",
    "                columns = self.con.execute(f\"PRAGMA table_info('{table}');\").fetchall()\n",
    "                column_names = [col[1] for col in columns]  # PRAGMA table_info returns column names in the second position\n",
    "            else:\n",
    "                columns = self.con.execute(f\"SELECT column_name FROM system.information_schema.columns WHERE table_name='{table}'\").fetchall()\n",
    "                column_names = [col[0] for col in columns]\n",
    "            setattr(self, table, TableInfo(table, column_names))\n",
    "\n",
    "    def __repr__(self):\n",
    "        return \", \".join(self.table_names)\n",
    "\n",
    "    def __getitem__(self, tables):\n",
    "        if isinstance(tables, str):\n",
    "            tables = [tables]\n",
    "        summaries = []\n",
    "        for table in tables:\n",
    "            if hasattr(self, table):\n",
    "                summaries.append(repr(getattr(self, table)))\n",
    "            else:\n",
    "                summaries.append(f\"Table '{table}' does not exist.\")\n",
    "        return \"\\n\\n\".join(summaries)\n",
    "\n",
    "class Database:\n",
    "    def __init__(self, source):\n",
    "        self.source = source\n",
    "        self.source_type = self._determine_source_type()\n",
    "        self.con = self._connect()\n",
    "        self._tables = self._get_tables()\n",
    "        self.t = Tables(self.con, self._tables, self.source_type)\n",
    "\n",
    "    def _determine_source_type(self):\n",
    "        if self.source.startswith('http'):\n",
    "            return 'remote'\n",
    "        else:\n",
    "            path = Path(self.source)\n",
    "            if path.suffix == '.sqlite':\n",
    "                return 'sqlite'\n",
    "            elif path.suffix == '.csv':\n",
    "                return 'csv'\n",
    "            elif path.suffix == '.duckdb':\n",
    "                return 'duckdb'\n",
    "            elif path.suffix == '.json':\n",
    "                return 'json'\n",
    "            elif path.suffix == '.parquet':\n",
    "                return 'parquet'\n",
    "            else:\n",
    "                raise ValueError(\"Unsupported file type\")\n",
    "\n",
    "    def _connect(self):\n",
    "        if self.source_type == 'remote':\n",
    "            filename = Path(self.source).name\n",
    "            path = Path(filename)\n",
    "            if not path.exists():\n",
    "                print(f\"Downloading {self.source}...\")\n",
    "                path.parent.mkdir(parents=True, exist_ok=True)  # Ensure the directory exists\n",
    "                urllib.request.urlretrieve(self.source, path)\n",
    "                print(\"Download complete.\")\n",
    "        else:\n",
    "            path = Path(self.source)\n",
    "            if not path.exists():\n",
    "                raise FileNotFoundError(f\"File {self.source} not found\")\n",
    "\n",
    "        con = duckdb.connect(database=':memory:')\n",
    "        \n",
    "        if path.suffix == '.sqlite':\n",
    "            con.execute(f\"ATTACH '{path}' AS sqlite_db (TYPE sqlite);\")\n",
    "            con.execute(\"USE sqlite_db;\")\n",
    "        elif path.suffix == '.csv':\n",
    "            con.execute(f\"CREATE TABLE attached_db AS SELECT * FROM read_csv_auto('{path}');\")\n",
    "        elif path.suffix == '.duckdb':\n",
    "            con.execute(f\"ATTACH DATABASE '{path}' AS attached_db;\")\n",
    "            con.execute(\"USE attached_db;\")\n",
    "        elif path.suffix == '.json':\n",
    "            con.execute(f\"CREATE TABLE attached_db AS SELECT * FROM read_json_auto('{path}');\")\n",
    "        elif path.suffix == '.parquet':\n",
    "            con.execute(f\"CREATE TABLE attached_db AS SELECT * FROM read_parquet('{path}');\")\n",
    "        \n",
    "        print(f\"Connected to database: {path}\")\n",
    "        return con\n",
    "\n",
    "    def _get_tables(self):\n",
    "        tables = self.con.execute(\"SHOW TABLES;\").fetchall()\n",
    "        print(f\"Raw tables data: {tables}\")\n",
    "        tables = [row[0] for row in tables]\n",
    "        print(f\"Tables found: {tables}\")\n",
    "        return tables\n",
    "\n",
    "    def tables(self):\n",
    "        return \", \".join(self._tables)\n",
    "\n",
    "    def show_tables(self):\n",
    "        return self.con.execute(\"SHOW TABLES;\").fetchall()"
   ]
  },
  {
   "cell_type": "code",
   "execution_count": 6,
   "metadata": {},
   "outputs": [
    {
     "name": "stdout",
     "output_type": "stream",
     "text": [
      "Connected to database: Chinook_Sqlite.sqlite\n",
      "Raw tables data: [('Album',), ('Artist',), ('Customer',), ('Employee',), ('Genre',), ('Invoice',), ('InvoiceLine',), ('MediaType',), ('Playlist',), ('PlaylistTrack',), ('Track',)]\n",
      "Tables found: ['Album', 'Artist', 'Customer', 'Employee', 'Genre', 'Invoice', 'InvoiceLine', 'MediaType', 'Playlist', 'PlaylistTrack', 'Track']\n"
     ]
    }
   ],
   "source": [
    "db = Database(url)"
   ]
  },
  {
   "cell_type": "code",
   "execution_count": 7,
   "metadata": {},
   "outputs": [
    {
     "data": {
      "text/plain": [
       "__main__.Database"
      ]
     },
     "execution_count": 7,
     "metadata": {},
     "output_type": "execute_result"
    }
   ],
   "source": [
    "type(db)"
   ]
  },
  {
   "cell_type": "code",
   "execution_count": 8,
   "metadata": {},
   "outputs": [
    {
     "data": {
      "text/plain": [
       "[('Album',),\n",
       " ('Artist',),\n",
       " ('Customer',),\n",
       " ('Employee',),\n",
       " ('Genre',),\n",
       " ('Invoice',),\n",
       " ('InvoiceLine',),\n",
       " ('MediaType',),\n",
       " ('Playlist',),\n",
       " ('PlaylistTrack',),\n",
       " ('Track',)]"
      ]
     },
     "execution_count": 8,
     "metadata": {},
     "output_type": "execute_result"
    }
   ],
   "source": [
    "db.show_tables()"
   ]
  },
  {
   "cell_type": "code",
   "execution_count": 9,
   "metadata": {},
   "outputs": [
    {
     "data": {
      "text/plain": [
       "┌───────────────┐\n",
       "│     name      │\n",
       "│    varchar    │\n",
       "├───────────────┤\n",
       "│ Album         │\n",
       "│ Artist        │\n",
       "│ Customer      │\n",
       "│ Employee      │\n",
       "│ Genre         │\n",
       "│ Invoice       │\n",
       "│ InvoiceLine   │\n",
       "│ MediaType     │\n",
       "│ Playlist      │\n",
       "│ PlaylistTrack │\n",
       "│ Track         │\n",
       "├───────────────┤\n",
       "│    11 rows    │\n",
       "└───────────────┘"
      ]
     },
     "execution_count": 9,
     "metadata": {},
     "output_type": "execute_result"
    }
   ],
   "source": [
    "db.con.sql(\"SHOW TABLES;\")"
   ]
  },
  {
   "cell_type": "code",
   "execution_count": 10,
   "metadata": {},
   "outputs": [
    {
     "data": {
      "text/plain": [
       "'Album, Artist, Customer, Employee, Genre, Invoice, InvoiceLine, MediaType, Playlist, PlaylistTrack, Track'"
      ]
     },
     "execution_count": 10,
     "metadata": {},
     "output_type": "execute_result"
    }
   ],
   "source": [
    "db.tables()"
   ]
  },
  {
   "cell_type": "code",
   "execution_count": 11,
   "metadata": {},
   "outputs": [
    {
     "data": {
      "text/plain": [
       "Album, Artist, Customer, Employee, Genre, Invoice, InvoiceLine, MediaType, Playlist, PlaylistTrack, Track"
      ]
     },
     "execution_count": 11,
     "metadata": {},
     "output_type": "execute_result"
    }
   ],
   "source": [
    "db.t"
   ]
  },
  {
   "cell_type": "code",
   "execution_count": 12,
   "metadata": {},
   "outputs": [
    {
     "data": {
      "text/plain": [
       "'Artist'"
      ]
     },
     "execution_count": 12,
     "metadata": {},
     "output_type": "execute_result"
    }
   ],
   "source": [
    "db.t.Artist.name"
   ]
  },
  {
   "cell_type": "code",
   "execution_count": 13,
   "metadata": {},
   "outputs": [
    {
     "data": {
      "text/plain": [
       "['Album',\n",
       " 'Artist',\n",
       " 'Customer',\n",
       " 'Employee',\n",
       " 'Genre',\n",
       " 'Invoice',\n",
       " 'InvoiceLine',\n",
       " 'MediaType',\n",
       " 'Playlist',\n",
       " 'PlaylistTrack',\n",
       " 'Track']"
      ]
     },
     "execution_count": 13,
     "metadata": {},
     "output_type": "execute_result"
    }
   ],
   "source": [
    "db.t.table_names"
   ]
  },
  {
   "cell_type": "code",
   "execution_count": 14,
   "metadata": {},
   "outputs": [
    {
     "data": {
      "text/plain": [
       "Album, Artist, Customer, Employee, Genre, Invoice, InvoiceLine, MediaType, Playlist, PlaylistTrack, Track"
      ]
     },
     "execution_count": 14,
     "metadata": {},
     "output_type": "execute_result"
    }
   ],
   "source": [
    "dt = db.t\n",
    "dt"
   ]
  },
  {
   "cell_type": "code",
   "execution_count": 15,
   "metadata": {},
   "outputs": [
    {
     "data": {
      "text/plain": [
       "'Table: Artist\\nColumns: ArtistId, Name\\n\\nTable: Album\\nColumns: AlbumId, Title, ArtistId\\n\\nTable: Track\\nColumns: TrackId, Name, AlbumId, MediaTypeId, GenreId, Composer, Milliseconds, Bytes, UnitPrice\\n\\nTable: Genre\\nColumns: GenreId, Name\\n\\nTable: MediaType\\nColumns: MediaTypeId, Name'"
      ]
     },
     "execution_count": 15,
     "metadata": {},
     "output_type": "execute_result"
    }
   ],
   "source": [
    "dt['Artist','Album','Track','Genre','MediaType']"
   ]
  },
  {
   "cell_type": "code",
   "execution_count": null,
   "metadata": {},
   "outputs": [],
   "source": []
  },
  {
   "cell_type": "markdown",
   "metadata": {},
   "source": [
    "### Dictionary of data example"
   ]
  },
  {
   "cell_type": "code",
   "execution_count": 16,
   "metadata": {},
   "outputs": [],
   "source": [
    "# Create a Python dictionary with three people\n",
    "data_dict = [\n",
    "    {\n",
    "        \"name\": \"John Doe\",\n",
    "        \"age\": 30,\n",
    "        \"email\": \"john.doe@example.com\",\n",
    "        \"is_employee\": True,\n",
    "        \"hobbies\": [\"reading\", \"playing soccer\", \"traveling\"],\n",
    "        \"address\": {\n",
    "            \"street\": \"123 Main Street\",\n",
    "            \"city\": \"New York\",\n",
    "            \"state\": \"NY\",\n",
    "            \"zip\": \"10001\"\n",
    "        }\n",
    "    },\n",
    "    {\n",
    "        \"name\": \"Jane Smith\",\n",
    "        \"age\": 25,\n",
    "        \"email\": \"jane.smith@example.com\",\n",
    "        \"is_employee\": False,\n",
    "        \"hobbies\": [\"painting\", \"cycling\"],\n",
    "        \"address\": {\n",
    "            \"street\": \"456 Elm Street\",\n",
    "            \"city\": \"Los Angeles\",\n",
    "            \"state\": \"CA\",\n",
    "            \"zip\": \"90001\"\n",
    "        }\n",
    "    },\n",
    "    {\n",
    "        \"name\": \"Alice Johnson\",\n",
    "        \"age\": 35,\n",
    "        \"email\": \"alice.johnson@example.com\",\n",
    "        \"is_employee\": True,\n",
    "        \"hobbies\": [\"cooking\", \"hiking\"],\n",
    "        \"address\": {\n",
    "            \"street\": \"789 Oak Street\",\n",
    "            \"city\": \"Chicago\",\n",
    "            \"state\": \"IL\",\n",
    "            \"zip\": \"60601\"\n",
    "        }\n",
    "    }\n",
    "]"
   ]
  },
  {
   "cell_type": "markdown",
   "metadata": {},
   "source": []
  }
 ],
 "metadata": {
  "kernelspec": {
   "display_name": ".venv",
   "language": "python",
   "name": "python3"
  },
  "language_info": {
   "codemirror_mode": {
    "name": "ipython",
    "version": 3
   },
   "file_extension": ".py",
   "mimetype": "text/x-python",
   "name": "python",
   "nbconvert_exporter": "python",
   "pygments_lexer": "ipython3",
   "version": "3.11.9"
  }
 },
 "nbformat": 4,
 "nbformat_minor": 2
}
